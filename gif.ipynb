{
 "cells": [
  {
   "cell_type": "code",
   "execution_count": 8,
   "metadata": {},
   "outputs": [],
   "source": [
    "import os\n",
    "from PIL import Image\n",
    "\n",
    "# 指定圖片所在的資料夾路徑\n",
    "folder_path = \"generated_images\"\n",
    "\n",
    "# 取得資料夾中所有圖片的檔名\n",
    "image_files = [f for f in os.listdir(folder_path) if f.endswith('.png')]\n",
    "\n",
    "# 根據epoch數字排序圖片檔名\n",
    "image_files.sort(key=lambda x: int(x.split('_')[1].split('.')[0]))\n",
    "\n",
    "# 建立一個空的圖片列表\n",
    "images = []\n",
    "\n",
    "# 逐一讀取圖片並添加到圖片列表\n",
    "for file in image_files:\n",
    "    image_path = os.path.join(folder_path, file)\n",
    "    image = Image.open(image_path)\n",
    "    images.append(image)\n",
    "\n",
    "# 儲存為GIF動畫\n",
    "output_path = f\"{folder_path}.gif\"\n",
    "images[0].save(output_path, save_all=True, append_images=images[1:], duration=50, loop=0)"
   ]
  },
  {
   "cell_type": "code",
   "execution_count": null,
   "metadata": {},
   "outputs": [],
   "source": [
    "from huggingface_hub import HfApi\n",
    "from huggingface_hub import login\n",
    "login()\n",
    "# 初始化Hugging Face API客户端\n",
    "api = HfApi()\n",
    "\n",
    "# 设置模型仓库的名称和本地路径\n",
    "repo_name = \"your_username/your_model_name\"\n",
    "local_path = \"/path/to/your/model/weights\"\n",
    "\n",
    "# 上传模型权重到Hugging Face\n",
    "api.upload_folder(\n",
    "    folder_path=local_path,\n",
    "    repo_id=repo_name,\n",
    "    repo_type=\"model\",\n",
    "    ignore_patterns=[\"*.py\", \"*.txt\"]  # 可选:指定要忽略的文件模式\n",
    ")\n",
    "\n",
    "print(\"模型权重已成功上传到Hugging Face!\")"
   ]
  }
 ],
 "metadata": {
  "kernelspec": {
   "display_name": "naturalspeech",
   "language": "python",
   "name": "python3"
  },
  "language_info": {
   "codemirror_mode": {
    "name": "ipython",
    "version": 3
   },
   "file_extension": ".py",
   "mimetype": "text/x-python",
   "name": "python",
   "nbconvert_exporter": "python",
   "pygments_lexer": "ipython3",
   "version": "3.9.0"
  }
 },
 "nbformat": 4,
 "nbformat_minor": 2
}
