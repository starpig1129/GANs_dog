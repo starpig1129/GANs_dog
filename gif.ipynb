{
 "cells": [
  {
   "cell_type": "code",
   "execution_count": 8,
   "metadata": {},
   "outputs": [],
   "source": [
    "import os\n",
    "from PIL import Image\n",
    "\n",
    "# 指定圖片所在的資料夾路徑\n",
    "folder_path = \"generated_images\"\n",
    "\n",
    "# 取得資料夾中所有圖片的檔名\n",
    "image_files = [f for f in os.listdir(folder_path) if f.endswith('.png')]\n",
    "\n",
    "# 根據epoch數字排序圖片檔名\n",
    "image_files.sort(key=lambda x: int(x.split('_')[1].split('.')[0]))\n",
    "\n",
    "# 建立一個空的圖片列表\n",
    "images = []\n",
    "\n",
    "# 逐一讀取圖片並添加到圖片列表\n",
    "for file in image_files:\n",
    "    image_path = os.path.join(folder_path, file)\n",
    "    image = Image.open(image_path)\n",
    "    images.append(image)\n",
    "\n",
    "# 儲存為GIF動畫\n",
    "output_path = f\"{folder_path}.gif\"\n",
    "images[0].save(output_path, save_all=True, append_images=images[1:], duration=50, loop=0)"
   ]
  }
 ],
 "metadata": {
  "kernelspec": {
   "display_name": "naturalspeech",
   "language": "python",
   "name": "python3"
  },
  "language_info": {
   "codemirror_mode": {
    "name": "ipython",
    "version": 3
   },
   "file_extension": ".py",
   "mimetype": "text/x-python",
   "name": "python",
   "nbconvert_exporter": "python",
   "pygments_lexer": "ipython3",
   "version": "3.9.0"
  }
 },
 "nbformat": 4,
 "nbformat_minor": 2
}
